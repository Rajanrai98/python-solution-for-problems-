{
  "nbformat": 4,
  "nbformat_minor": 0,
  "metadata": {
    "colab": {
      "provenance": []
    },
    "kernelspec": {
      "name": "python3",
      "display_name": "Python 3"
    },
    "language_info": {
      "name": "python"
    }
  },
  "cells": [
    {
      "cell_type": "code",
      "execution_count": null,
      "metadata": {
        "colab": {
          "base_uri": "https://localhost:8080/"
        },
        "id": "P7F12JCb4iV3",
        "outputId": "cbfe0b73-61e9-40f2-d079-151873276a40"
      },
      "outputs": [
        {
          "output_type": "stream",
          "name": "stdout",
          "text": [
            "enter the value of a:12\n",
            "enter the value of b:56\n",
            "enter the value of c:28\n",
            "b is greater than c&a\n"
          ]
        }
      ],
      "source": [
        "a = int(input(\"enter the value of a:\"))\n",
        "b = int(input(\"enter the value of b:\"))\n",
        "c = int(input(\"enter the value of c:\"))\n",
        "if a>b and a>c:\n",
        "  print(\"a is greater thhan the b&c\")\n",
        "elif b>a and b>c:\n",
        "  print(\"b is greater than c&a\")\n",
        "else:\n",
        "  print(\"c is greater than b & a\")"
      ]
    },
    {
      "cell_type": "code",
      "source": [
        "def cel_to_fah(cel):\n",
        "  fah = (cel*1.8)+32\n",
        "  return fah"
      ],
      "metadata": {
        "id": "gmBI0Mwg5ko0"
      },
      "execution_count": null,
      "outputs": []
    },
    {
      "cell_type": "code",
      "source": [
        "cel_to_fah(45)"
      ],
      "metadata": {
        "colab": {
          "base_uri": "https://localhost:8080/"
        },
        "id": "V6_6RoRm5krS",
        "outputId": "e9b1579f-371a-4c97-97c3-13242846b59c"
      },
      "execution_count": null,
      "outputs": [
        {
          "output_type": "execute_result",
          "data": {
            "text/plain": [
              "113.0"
            ]
          },
          "metadata": {},
          "execution_count": 15
        }
      ]
    },
    {
      "cell_type": "code",
      "source": [
        "def swap_items(a,b):\n",
        "  a,b = b,a\n",
        "  return a, b"
      ],
      "metadata": {
        "id": "E4Di8zXj5ktq"
      },
      "execution_count": null,
      "outputs": []
    },
    {
      "cell_type": "code",
      "source": [
        "a = 20\n",
        "b = 30\n",
        "swap_items(a,b)"
      ],
      "metadata": {
        "colab": {
          "base_uri": "https://localhost:8080/"
        },
        "id": "HWyaFkmy5kv9",
        "outputId": "1ac57d65-0f00-493f-8295-77ab2549cce4"
      },
      "execution_count": null,
      "outputs": [
        {
          "output_type": "execute_result",
          "data": {
            "text/plain": [
              "(30, 20)"
            ]
          },
          "metadata": {},
          "execution_count": 17
        }
      ]
    },
    {
      "cell_type": "code",
      "source": [
        "## python code to add digit in the numbers\n",
        "num = int(input(\"enter the value of the num:\"))\n",
        "a = num%10  ##( 12345%10 , a = 5 , num = 1234)\n",
        "num = num//10 ## (1234)\n",
        "b = num%10 #(b = 4)\n",
        "num = num//10 #(123)\n",
        "c = num%10 ## (12, c = 3)\n",
        "num = num//10 ##(12)\n",
        "d = num%10 ## (d = 2)\n",
        "e = num//10\n",
        "\n",
        "\n",
        "digit = a+b+c+d+e\n",
        "print(digit)"
      ],
      "metadata": {
        "id": "d-3RNb1O5kzU",
        "colab": {
          "base_uri": "https://localhost:8080/"
        },
        "outputId": "9853e014-9f02-46ff-d3a3-119b1705d985"
      },
      "execution_count": 19,
      "outputs": [
        {
          "output_type": "stream",
          "name": "stdout",
          "text": [
            "enter the value of the num:12345\n",
            "15\n"
          ]
        }
      ]
    },
    {
      "cell_type": "code",
      "source": [
        "digit = int(input('enter the value of digit:'))\n",
        "print(digit)\n",
        "a = digit%10\n",
        "digit = digit//10\n",
        "b = digit%10\n",
        "digit = digit//10\n",
        "c = digit%10\n",
        "digit = digit//10\n",
        "d = digit%10\n",
        "e = digit//10\n",
        "\n",
        "rev = a*10000+b*1000+c*100+d*10+e\n",
        "print(\"reverse the numbers:\" , rev)\n"
      ],
      "metadata": {
        "colab": {
          "base_uri": "https://localhost:8080/"
        },
        "id": "-Dyukld7L_9F",
        "outputId": "bb545d94-3716-4b3e-c7c8-bfe137440f97"
      },
      "execution_count": 20,
      "outputs": [
        {
          "output_type": "stream",
          "name": "stdout",
          "text": [
            "enter the value of digit:56472\n",
            "56472\n",
            "reverse the numbers: 27465\n"
          ]
        }
      ]
    },
    {
      "cell_type": "code",
      "source": [
        "num = int(input(\"enter the value:\"))\n",
        "if num%2==0:\n",
        "  print(\"num is even\")\n",
        "else:\n",
        "  print(\"the num is odd\")"
      ],
      "metadata": {
        "colab": {
          "base_uri": "https://localhost:8080/"
        },
        "id": "vT1wkuFtL__j",
        "outputId": "f729341e-e0da-447a-ff14-308134071c6e"
      },
      "execution_count": 21,
      "outputs": [
        {
          "output_type": "stream",
          "name": "stdout",
          "text": [
            "enter the value:3\n",
            "the num is odd\n"
          ]
        }
      ]
    },
    {
      "cell_type": "code",
      "source": [
        "def odd_or_even(num):\n",
        "  if num%2==0:\n",
        "    return \"num is even\"\n",
        "  else:\n",
        "    return \"num is odd\""
      ],
      "metadata": {
        "id": "bVbgkzokMAB6"
      },
      "execution_count": 23,
      "outputs": []
    },
    {
      "cell_type": "code",
      "source": [
        "odd_or_even(3)"
      ],
      "metadata": {
        "colab": {
          "base_uri": "https://localhost:8080/",
          "height": 36
        },
        "id": "4X4AY2mVMAFb",
        "outputId": "f7739e92-afd3-40cc-f99e-64f644fd2e04"
      },
      "execution_count": 24,
      "outputs": [
        {
          "output_type": "execute_result",
          "data": {
            "text/plain": [
              "'num is odd'"
            ],
            "application/vnd.google.colaboratory.intrinsic+json": {
              "type": "string"
            }
          },
          "metadata": {},
          "execution_count": 24
        }
      ]
    },
    {
      "cell_type": "code",
      "source": [
        "year = int(input(\"enter the value of year:\"))\n",
        "if year%4==0 and year%100!=0:\n",
        "  print(\"this is a leap year\")\n",
        "elif year%100== 0 and year%400==0:\n",
        "  print(\"this year is a leap year\")\n",
        "else:\n",
        "  print(\"this is not a leap year\")"
      ],
      "metadata": {
        "colab": {
          "base_uri": "https://localhost:8080/"
        },
        "id": "FeOy7aqNN5el",
        "outputId": "fd4931fa-2f38-47bd-8676-81bf9eccf4a8"
      },
      "execution_count": 25,
      "outputs": [
        {
          "output_type": "stream",
          "name": "stdout",
          "text": [
            "enter the value of year:2024\n",
            "this is a leap year\n"
          ]
        }
      ]
    },
    {
      "cell_type": "code",
      "source": [
        "x = 35\n",
        "x0 = 30\n",
        "y = 23\n",
        "y0 = 45\n",
        "\n",
        "def euclidian_distance(x , y ,x0 , y0):\n",
        "  euc_dis = ((x-x0)**2 +(y-y0)**2)**0.5\n",
        "  return euc_dis"
      ],
      "metadata": {
        "id": "CauXdabKN5hQ"
      },
      "execution_count": 27,
      "outputs": []
    },
    {
      "cell_type": "code",
      "source": [
        "euclidian_distance(35 , 23 , 30 , 45)"
      ],
      "metadata": {
        "colab": {
          "base_uri": "https://localhost:8080/"
        },
        "id": "E1uMxcq-N5jF",
        "outputId": "d83ffa18-f111-446b-b58d-f0db9b321dd3"
      },
      "execution_count": 28,
      "outputs": [
        {
          "output_type": "execute_result",
          "data": {
            "text/plain": [
              "22.561028345356956"
            ]
          },
          "metadata": {},
          "execution_count": 28
        }
      ]
    },
    {
      "cell_type": "code",
      "source": [
        "def inspect_traingle(a_angle, b_angle , c_angle):\n",
        "  if a_angle==60 and b_angle==60 and c_angle==60:\n",
        "    print(\"it form a equilateral traingle\")\n",
        "  elif a_angle+b_angle+c_angle==180:\n",
        "    print(\"it form a equilateral traingle\")\n",
        "  else:\n",
        "    print(\"not form a traingle\")"
      ],
      "metadata": {
        "id": "t9lE_NQaN5lf"
      },
      "execution_count": 29,
      "outputs": []
    },
    {
      "cell_type": "code",
      "source": [
        "inspect_traingle(60 , 60 , 60)"
      ],
      "metadata": {
        "colab": {
          "base_uri": "https://localhost:8080/"
        },
        "id": "r7gUd9HtN5nn",
        "outputId": "65d6e2dc-e173-40bc-c8a5-c322e847ad3a"
      },
      "execution_count": 30,
      "outputs": [
        {
          "output_type": "stream",
          "name": "stdout",
          "text": [
            "it form a equilateral traingle\n"
          ]
        }
      ]
    },
    {
      "cell_type": "code",
      "source": [
        "def loss_or_profit(cp , sp):\n",
        "  if cp>=sp:\n",
        "    print(\"it leads to make loss\")\n",
        "  elif cp==sp:\n",
        "    print(\"it is at break even point\")\n",
        "  else:\n",
        "    print(\"it leads to profit\")"
      ],
      "metadata": {
        "id": "692xiFo_QJoa"
      },
      "execution_count": 35,
      "outputs": []
    },
    {
      "cell_type": "code",
      "source": [
        "cp = int(input(\"enter the value of the cp:\"))\n",
        "sp = int(input(\"enter the value of 8sp:\"))\n",
        "loss_or_profit(cp , sp)"
      ],
      "metadata": {
        "colab": {
          "base_uri": "https://localhost:8080/"
        },
        "id": "SJtgdNGvQJq4",
        "outputId": "7a7de449-2ee2-45ba-cfc7-d78820e743ce"
      },
      "execution_count": 36,
      "outputs": [
        {
          "output_type": "stream",
          "name": "stdout",
          "text": [
            "enter the value of the cp:45\n",
            "enter the value of 8sp:76\n",
            "it leads to profit\n"
          ]
        }
      ]
    },
    {
      "cell_type": "code",
      "source": [
        "def cal_SI(p,r,t):\n",
        "  si = (p*r*t)/100\n",
        "  return si"
      ],
      "metadata": {
        "id": "cXHp1KxOQJtK"
      },
      "execution_count": 37,
      "outputs": []
    },
    {
      "cell_type": "code",
      "source": [
        "p = int(input(\"enter the value of p\"))\n",
        "r = int(input(\"enter the value of r\"))\n",
        "t = int(input(\"enter the value of t\"))\n",
        "cal_SI(p,r,t)"
      ],
      "metadata": {
        "colab": {
          "base_uri": "https://localhost:8080/"
        },
        "id": "-_V5iSUzQJvc",
        "outputId": "703fe1ef-c8c3-4e10-d46f-769251acaeae"
      },
      "execution_count": 38,
      "outputs": [
        {
          "name": "stdout",
          "output_type": "stream",
          "text": [
            "enter the value of p4500\n",
            "enter the value of r12\n",
            "enter the value of t3\n"
          ]
        },
        {
          "output_type": "execute_result",
          "data": {
            "text/plain": [
              "1620.0"
            ]
          },
          "metadata": {},
          "execution_count": 38
        }
      ]
    },
    {
      "cell_type": "code",
      "source": [
        "def cal_vol_cylinder(r ,h):\n",
        "  pi = 3.14\n",
        "  vol_cylinder = 2*pi*r**2*h\n",
        "  return vol_cylinder"
      ],
      "metadata": {
        "id": "9W-jN5mnQJxl"
      },
      "execution_count": 39,
      "outputs": []
    },
    {
      "cell_type": "code",
      "source": [
        "r = float(input(\"enter the value of radiuus:\"))\n",
        "h = float(input(\"enter thevalue of height:\"))\n",
        "cal_vol_cylinder(r,h)"
      ],
      "metadata": {
        "colab": {
          "base_uri": "https://localhost:8080/"
        },
        "id": "-AB4CrhwQJ00",
        "outputId": "9c8df11d-aa30-445c-e88f-1f3eb91c443c"
      },
      "execution_count": 40,
      "outputs": [
        {
          "name": "stdout",
          "output_type": "stream",
          "text": [
            "enter the value of radiuus:3.8\n",
            "enter thevalue of height:5.8\n"
          ]
        },
        {
          "output_type": "execute_result",
          "data": {
            "text/plain": [
              "525.9625599999999"
            ]
          },
          "metadata": {},
          "execution_count": 40
        }
      ]
    },
    {
      "cell_type": "code",
      "source": [
        "num = int(input(\"enter the value of num:\"))\n",
        "if num%3==0 and num%6==0:\n",
        "  print(\"num is divisible by 3 and 6\")\n",
        "else:\n",
        "  print(\"num is not divisible by 3 and 6\")"
      ],
      "metadata": {
        "colab": {
          "base_uri": "https://localhost:8080/"
        },
        "id": "BYV1H0ohXE28",
        "outputId": "a5be6d84-52a4-4473-8d46-ae3161349c62"
      },
      "execution_count": 42,
      "outputs": [
        {
          "output_type": "stream",
          "name": "stdout",
          "text": [
            "enter the value of num:43\n",
            "num is not divisible by 3 and 6\n"
          ]
        }
      ]
    },
    {
      "cell_type": "code",
      "source": [
        "def divisibility(num):\n",
        "  if num%3==0 and num%6!=0:\n",
        "    return \"num is only divisible by 3 not 6\"\n",
        "  elif num%3==0 and num%6==0:\n",
        "    return \"num is only divisible by 3 or 6\"\n",
        "  else:\n",
        "    return \"num is not divisible by 3 and 6\"\n"
      ],
      "metadata": {
        "id": "pZFprjsVXE5f"
      },
      "execution_count": 47,
      "outputs": []
    },
    {
      "cell_type": "code",
      "source": [
        "num = int(input(\"enter the value of num:\"))\n",
        "divisibility(num)"
      ],
      "metadata": {
        "colab": {
          "base_uri": "https://localhost:8080/",
          "height": 53
        },
        "id": "8y5MrnILXE8J",
        "outputId": "db7773d4-7989-4b7e-fcdf-2e32833efdaa"
      },
      "execution_count": 48,
      "outputs": [
        {
          "name": "stdout",
          "output_type": "stream",
          "text": [
            "enter the value of num:9\n"
          ]
        },
        {
          "output_type": "execute_result",
          "data": {
            "text/plain": [
              "'num is only divisible by 3 not 6'"
            ],
            "application/vnd.google.colaboratory.intrinsic+json": {
              "type": "string"
            }
          },
          "metadata": {},
          "execution_count": 48
        }
      ]
    },
    {
      "cell_type": "code",
      "source": [
        "def square_of_num(a):\n",
        "  sqr = a**2\n",
        "  return sqr\n",
        "\n",
        "  num = int(input(\"enter the value of a:\"))\n",
        "square_of_num(20)"
      ],
      "metadata": {
        "colab": {
          "base_uri": "https://localhost:8080/"
        },
        "id": "tXOBaLawXE-m",
        "outputId": "42ddfd78-a672-48f2-8d22-b0b96427c6a2"
      },
      "execution_count": 51,
      "outputs": [
        {
          "output_type": "execute_result",
          "data": {
            "text/plain": [
              "400"
            ]
          },
          "metadata": {},
          "execution_count": 51
        }
      ]
    },
    {
      "cell_type": "code",
      "source": [
        "\n",
        "user_input = int(input(\"enter the value of num:\"))\n",
        "num = user_input\n",
        "a = num%10 ## (num = 153 , a = 3)\n",
        "num = num//10 ## num = 15\n",
        "b = num%10 ## b = 5\n",
        "c = num//10 ## c = 1\n",
        "\n",
        "if (a**3)+(b**3)+(c**3)==user_input:\n",
        "  print(\"this is a amrstrong numbers:\")\n",
        "else:\n",
        "  print(\"this  is not a armstrong numbers\")"
      ],
      "metadata": {
        "colab": {
          "base_uri": "https://localhost:8080/"
        },
        "id": "5ua5CTa7ZbUC",
        "outputId": "f234dc00-734e-44c6-8abf-d3c564d8680e"
      },
      "execution_count": 64,
      "outputs": [
        {
          "output_type": "stream",
          "name": "stdout",
          "text": [
            "enter the value of num:153\n",
            "this is a amrstrong numbers:\n"
          ]
        }
      ]
    },
    {
      "cell_type": "code",
      "source": [],
      "metadata": {
        "id": "S7qL8hEOZbW6"
      },
      "execution_count": null,
      "outputs": []
    },
    {
      "cell_type": "code",
      "source": [],
      "metadata": {
        "id": "-UE8IfeOZbZT"
      },
      "execution_count": null,
      "outputs": []
    },
    {
      "cell_type": "code",
      "source": [],
      "metadata": {
        "id": "FqcjEMGkZbbl"
      },
      "execution_count": null,
      "outputs": []
    },
    {
      "cell_type": "code",
      "source": [],
      "metadata": {
        "id": "FCpCtkHrZbd6"
      },
      "execution_count": null,
      "outputs": []
    },
    {
      "cell_type": "code",
      "source": [],
      "metadata": {
        "id": "qZ5mISxrZbhS"
      },
      "execution_count": null,
      "outputs": []
    }
  ]
}